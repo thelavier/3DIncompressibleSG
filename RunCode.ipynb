{
 "cells": [
  {
   "cell_type": "markdown",
   "metadata": {},
   "source": [
    "# Solving the Incompressible Semi-Geostrophic Problem in 3D\n",
    "\n",
    "First load in the required packages and paths."
   ]
  },
  {
   "cell_type": "code",
   "execution_count": null,
   "metadata": {},
   "outputs": [],
   "source": [
    "import initialconditions as ic\n",
    "import matplotlib.pyplot as plt\n",
    "import numpy as np\n",
    "\n",
    "import main as main\n",
    "import sys\n",
    "sys.path.append(\"/home/s2250115/petsc/arch-linux-c-debug/lib\")"
   ]
  },
  {
   "cell_type": "markdown",
   "metadata": {},
   "source": [
    "Next define the system parameters."
   ]
  },
  {
   "cell_type": "code",
   "execution_count": null,
   "metadata": {},
   "outputs": [],
   "source": [
    "# Define the parameters of the system\n",
    "\n",
    "box = [-3.66, -1.75, 0, 3.66, 1.75, 0.45] # List or tuple defining domain [xmin, ymin, zmin, xmax, ymax, zmax]\n",
    "per_tol = 1e-3 # Percent tolerance\n",
    "per_x = True # Set the periodicity of X\n",
    "per_y = False # Set the periodicity of Y\n",
    "per_z = False # Set the periodicity of Z\n",
    "tf = 52 # Final time\n",
    "Ndt = 1207 # Number of timesteps"
   ]
  },
  {
   "cell_type": "markdown",
   "metadata": {},
   "source": [
    "Define the initial condition and visualise it."
   ]
  },
  {
   "cell_type": "code",
   "execution_count": null,
   "metadata": {},
   "outputs": [],
   "source": [
    "# Define the parameters and initialize an initial condition that is a perturbation of a steady background state\n",
    "\n",
    "#N = 1000\n",
    "#B = np.array([[6, 2, 3], [2, 6, 5], [3, 5, 6]]) #Create background steady state\n",
    "#Z = ic.create_ss_initial(N, B, box, 'Thermal Sine') #Initial seed positions as a perturbation of a steady state\n",
    "\n",
    "# Define the parameters and initialize an initial condition that is an isolated cyclone\n",
    "\n",
    "N = 4096 # Number of seeds\n",
    "A = 0.1 # Shear parameter can either be 0 or +/-0.1\n",
    "Z = ic.create_cyc_initial(N, box, A, per_x, per_y, per_z) #Initial seed positions for an isolated cyclone with no shear, shear can be set to +/-0.1\n",
    "\n",
    "# Plot the initial condition\n",
    "\n",
    "fig = plt.figure()\n",
    "fig.set_size_inches(10, 10, True)\n",
    "ax = fig.add_subplot(projection='3d')\n",
    "ax.scatter(Z[:,0], Z[:,1], Z[:,2], c = Z[:,2], cmap = 'jet', edgecolor = 'none', s = 8) #Points colored based on their 3rd component i.e. temperature\n",
    "ax.set_xlim([np.min(Z[:,0]), np.max(Z[:,0])])\n",
    "ax.set_ylim([np.min(Z[:,1]), np.max(Z[:,1])])\n",
    "ax.set_zlim([np.min(Z[:,2]), np.max(Z[:,2])])\n",
    "ax.set_xlabel('X')\n",
    "ax.set_ylabel('Y')\n",
    "ax.set_zlabel('Z')\n",
    "ax.view_init(elev = 45, azim = 45) #Viewing angle on the inital conditions\n",
    "\n",
    "plt.show()"
   ]
  },
  {
   "cell_type": "markdown",
   "metadata": {},
   "source": [
    "Solve the problem and save the data"
   ]
  },
  {
   "cell_type": "code",
   "execution_count": null,
   "metadata": {},
   "outputs": [],
   "source": [
    "main.SG_solver(box, Z, per_tol, tf, Ndt, per_x, per_y, per_z, solver = 'Petsc', debug = True) #Solve and save the solution \n",
    "\n",
    "#Can activate the optional variables solver, and debug to control which linear solver the code uses and whether or not the code is in debug mode."
   ]
  },
  {
   "cell_type": "markdown",
   "metadata": {},
   "source": [
    "# Animations"
   ]
  },
  {
   "cell_type": "markdown",
   "metadata": {},
   "source": [
    "First animate the particles"
   ]
  },
  {
   "cell_type": "code",
   "execution_count": null,
   "metadata": {},
   "outputs": [],
   "source": [
    "import animators as ani\n",
    "\n",
    "# Animate the particles \n",
    "\n",
    "ani.point_animator('./data/SG_data.msgpack', 'C', '2D', box, tf) #Animate the seeds or centroids depending on choice of 'Z' or 'C' and '2D' or '3D'\n",
    "ani.point_animator('./data/SG_data.msgpack', 'C', '3D', box, tf) #Animate the seeds or centroids depending on choice of 'Z' or 'C' and '2D' or '3D'\n",
    "ani.point_animator('./data/SG_data.msgpack', 'Z', '2D', box, tf) #Animate the seeds or centroids depending on choice of 'Z' or 'C' and '2D' or '3D'\n",
    "ani.point_animator('./data/SG_data.msgpack', 'Z', '3D', box, tf) #Animate the seeds or centroids depending on choice of 'Z' or 'C' and '2D' or '3D'"
   ]
  },
  {
   "cell_type": "markdown",
   "metadata": {},
   "source": [
    "Next load in the data to animate the cells"
   ]
  },
  {
   "cell_type": "code",
   "execution_count": null,
   "metadata": {},
   "outputs": [],
   "source": [
    "import auxfunctions as aux\n",
    "\n",
    "# Load the data from the MessagePack file\n",
    "Z, C, W, M = aux.load_data('./data/SG_data.msgpack')\n",
    "\n",
    "# Compute the Velocities, Temperature, and Kinetic Energy\n",
    "MVel, ZVel, T, E, Eerr = aux.Properties(Z, C, M, box)\n",
    "\n",
    "# Create a line plot\n",
    "plt.plot(E)\n",
    "# Add labels and title\n",
    "plt.xlabel('Time Step')\n",
    "plt.ylabel('E')\n",
    "plt.title('Evolution of Total Energy')\n",
    "\n",
    "plt.show()"
   ]
  },
  {
   "cell_type": "markdown",
   "metadata": {},
   "source": [
    "Next animate the cells"
   ]
  },
  {
   "cell_type": "code",
   "execution_count": null,
   "metadata": {},
   "outputs": [],
   "source": [
    "import optimaltransportsolver as ots\n",
    "from pysdot import PowerDiagram\n",
    "import pyvista as pv\n",
    "import imageio.v2 as iio\n",
    "\n",
    "#Animate the cells\n",
    "\n",
    "coloring = 'Temp' # Chose how to colour the cells can be temperature ('Temp'), meridonal velocity ('Vel'), \n",
    "\n",
    "# Construct the domain\n",
    "domain = ots.make_domain(box, False, False, False)\n",
    "\n",
    "# Set up the animation parameters\n",
    "n_frames = len(W)  # Number of frames\n",
    "\n",
    "# Create an empty list to store frames\n",
    "frames = []\n",
    "\n",
    "# Generate frames for the animation\n",
    "for i in range(n_frames):\n",
    "\n",
    "    #Draw the tessellation\n",
    "    pd = PowerDiagram(positions = Z[i] , weights = W[i] , domain = domain)\n",
    "\n",
    "    # Save the results in a .vtk file\n",
    "    filename = \"./data/cells.vtk\"\n",
    "    pd.display_vtk(filename)\n",
    "\n",
    "    # Store the volumes in an array\n",
    "    if coloring == 'MVel':\n",
    "        minval = np.min(MVel)\n",
    "        maxval = np.max(MVel)\n",
    "        colours = np.array(MVel[i])\n",
    "    elif coloring == 'ZVel':\n",
    "        minval = np.min(ZVel)\n",
    "        maxval = np.max(ZVel)\n",
    "        colours = np.array(ZVel[i])\n",
    "    elif coloring == 'Temp':\n",
    "        minval = np.min(T)\n",
    "        maxval = np.max(T)\n",
    "        colours = np.array(T[i])\n",
    "    else:\n",
    "        raise ValueError('Please specify how you want to colour the cells')\n",
    "\n",
    "    # Read the data\n",
    "    grid=pv.read(filename)\n",
    "\n",
    "    # create cell data that gives the cell volumes, this allows us to colour by cell volumes\n",
    "    cell_colours = colours[grid.cell_data['num'].astype(int)]\n",
    "    grid.cell_data['Temperature']=cell_colours\n",
    "\n",
    "    # plot the data with an automatically created plotter, for a static picture use backend='static'\n",
    "    plotter = pv.Plotter(window_size=[800,800], notebook = False, off_screen=True)\n",
    "    plotter.add_mesh(grid, clim = [minval, maxval], cmap = 'jet')\n",
    "\n",
    "    # Render the frame\n",
    "    plotter.show()\n",
    "\n",
    "    # Get the frame as an image array\n",
    "    frame = plotter.screenshot(transparent_background=True)\n",
    "\n",
    "    # Add the frame to the list of frames\n",
    "    frames.append(frame)\n",
    "\n",
    "# Save the frames as an animation file\n",
    "output_file = './animations/SG_Cells.gif'\n",
    "iio.mimwrite(output_file, frames, format = 'gif', fps = 30)"
   ]
  },
  {
   "cell_type": "markdown",
   "metadata": {},
   "source": [
    "# Combine and syncronize the animations"
   ]
  },
  {
   "cell_type": "code",
   "execution_count": null,
   "metadata": {},
   "outputs": [],
   "source": [
    "import matplotlib.pyplot as plt\n",
    "import matplotlib.animation as animation\n",
    "from PIL import Image\n",
    "\n",
    "# Function to read GIF frames\n",
    "def read_gif(gif_path):\n",
    "    img = Image.open(gif_path)\n",
    "    frames = []\n",
    "    try:\n",
    "        while True:\n",
    "            frames.append(img.copy())\n",
    "            img.seek(len(frames))\n",
    "    except EOFError:\n",
    "        pass\n",
    "    return frames\n",
    "\n",
    "# Paths to your GIFs\n",
    "gif1_path = './animations/SG_Cell_Animation.gif'\n",
    "gif2_path = './animations/SG_Centroids_2D.gif'\n",
    "gif3_path = './animations/SG_Seeds_2D.gif'\n",
    "\n",
    "# Read GIF frames\n",
    "frames1 = read_gif(gif1_path)\n",
    "frames2 = read_gif(gif2_path)\n",
    "frames3 = read_gif(gif3_path)\n",
    "\n",
    "# Create a figure and axes\n",
    "fig, axes = plt.subplots(1, 3, figsize=(15, 5))\n",
    "\n",
    "# Display each GIF on a separate subplot\n",
    "ims = []\n",
    "\n",
    "for ax, frames in zip(axes, [frames1, frames2, frames3]):\n",
    "    im = ax.imshow(frames[0], animated=True)\n",
    "    ims.append([im])\n",
    "\n",
    "# Update function for the animation\n",
    "def update(frame):\n",
    "    for im, frames in zip(ims, [frames1, frames2, frames3]):\n",
    "        im[0].set_array(frames[frame])\n",
    "\n",
    "# Create the animation\n",
    "ani = animation.FuncAnimation(fig, update, frames=len(frames1), repeat=False, blit=False)\n",
    "\n",
    "# Save the animation (uncomment the line below to save)\n",
    "ani.save('./animations/Combined_Animation.gif', writer='pillow', fps=30)"
   ]
  }
 ],
 "metadata": {
  "kernelspec": {
   "display_name": "Python 3.10.6 64-bit",
   "language": "python",
   "name": "python3"
  },
  "language_info": {
   "codemirror_mode": {
    "name": "ipython",
    "version": 3
   },
   "file_extension": ".py",
   "mimetype": "text/x-python",
   "name": "python",
   "nbconvert_exporter": "python",
   "pygments_lexer": "ipython3",
   "version": "3.10.12"
  },
  "orig_nbformat": 4,
  "vscode": {
   "interpreter": {
    "hash": "916dbcbb3f70747c44a77c7bcd40155683ae19c65e1c03b4aa3499c5328201f1"
   }
  }
 },
 "nbformat": 4,
 "nbformat_minor": 2
}
