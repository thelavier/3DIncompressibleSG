{
 "cells": [
  {
   "cell_type": "markdown",
   "metadata": {},
   "source": [
    "# Code for running the 3D incompressible SG solver\n",
    "\n",
    "First load in the required packages and sub folders"
   ]
  },
  {
   "cell_type": "code",
   "execution_count": null,
   "metadata": {},
   "outputs": [],
   "source": [
    "import initialconditions as ic\n",
    "import matplotlib.pyplot as plt\n",
    "import numpy as np\n",
    "\n",
    "import main as main\n",
    "import sys\n",
    "sys.path.append(\"/home/s2250115/petsc/arch-linux-c-debug/lib\")"
   ]
  },
  {
   "cell_type": "markdown",
   "metadata": {},
   "source": [
    "Next define the system parameters, the initial condition, and visualise the initial condition"
   ]
  },
  {
   "cell_type": "code",
   "execution_count": null,
   "metadata": {},
   "outputs": [],
   "source": [
    "# Define the parameters of the system\n",
    "\n",
    "box = [-3.66, -1.75, 0, 3.66, 1.75, 0.45] # List or tuple defining domain [xmin, ymin, zmin, xmax, ymax, zmax]\n",
    "per_tol = 1e-3 # Percent tolerance\n",
    "per_x = True # Set the periodicity of X\n",
    "per_y = False # Set the periodicity of Y\n",
    "per_z = False # Set the periodicity of Z\n",
    "tf = 5 # Final time\n",
    "Ndt = 200 # Number of timesteps\n",
    "\n",
    "# Define the parameters and initialize an artifical initial condition\n",
    "\n",
    "#N = 1000\n",
    "#Z = ic.create_artificial_initial(N, box[0] + 0.1, box[1] + 0.1, box[2] + 0.1, box[3] - 0.1, box[4] - 0.1, box[5] - 0.1, 'lattice', 0.85) #Create an artificial initial condition that is a lattice with a sine perturbation\n",
    "\n",
    "# Define the parameters and initialize an initial condition that is a perturbation of a steady background state\n",
    "\n",
    "# N = 1000\n",
    "# B = np.array([[6, 2, 3], [2, 6, 5], [3, 5, 6]]) #Create background steady state\n",
    "# Z = ic.create_ss_initial(N, B, box, 'Thermal Sine') #Initial seed positions as a perturbation of a steady state\n",
    "\n",
    "# Define the parameters and initialize an initial condition that is an isolated cyclone\n",
    "\n",
    "NumCol = 1024 # Number of columns used\n",
    "NumRow = 10 # Number of points in each column between the max and min temperature\n",
    "N = NumCol * NumRow # Total number of seeds\n",
    "A = 0 # Shear parameter can either be 0 or 0.1\n",
    "Z = ic.create_cyc_initial(NumCol, NumRow, box, A, per_x, per_y, per_z) #Initial seed positions for an isolated cyclone with no shear, shear can be set to 0.1\n",
    "\n",
    "# Plot the initial condition\n",
    "\n",
    "fig = plt.figure()\n",
    "fig.set_size_inches(10, 10, True)\n",
    "ax = fig.add_subplot(projection='3d')\n",
    "ax.scatter(Z[:,0], Z[:,1], Z[:,2], c = Z[:,2], cmap = 'jet', edgecolor = 'none', s = 8) #Points colored based on their 3rd component i.e. temperature\n",
    "ax.set_xlim([np.min(Z[:,0]), np.max(Z[:,0])])\n",
    "ax.set_ylim([np.min(Z[:,1]), np.max(Z[:,1])])\n",
    "ax.set_zlim([np.min(Z[:,2]), np.max(Z[:,2])])\n",
    "ax.set_xlabel('X')\n",
    "ax.set_ylabel('Y')\n",
    "ax.set_zlabel('Z')\n",
    "ax.view_init(elev = 30, azim = 45) #Viewing angle on the inital conditions\n",
    "\n",
    "plt.show()"
   ]
  },
  {
   "cell_type": "markdown",
   "metadata": {},
   "source": [
    "Next run the code"
   ]
  },
  {
   "cell_type": "code",
   "execution_count": null,
   "metadata": {},
   "outputs": [],
   "source": [
    "main.SG_solver(box, Z, N, per_tol, tf, Ndt, per_x, per_y, per_z, debug = True) #Solve and save the solution \n",
    "\n",
    "#Can activate the optional variables solver, and debug to control which linear solver the code uses and whether or not the code is in debug mode."
   ]
  },
  {
   "cell_type": "markdown",
   "metadata": {},
   "source": [
    "First animate the particles"
   ]
  },
  {
   "cell_type": "code",
   "execution_count": null,
   "metadata": {},
   "outputs": [],
   "source": [
    "import animators as ani\n",
    "\n",
    "# Animate the particles \n",
    "\n",
    "ani.point_animator('./data/SG_data.csv', 'C', '2D', box, tf) #Animate the seeds or centroids depending on choice of 'Z' or 'C' and '2D' or '3D'\n",
    "ani.point_animator('./data/SG_data.csv', 'C', '3D', box, tf) #Animate the seeds or centroids depending on choice of 'Z' or 'C' and '2D' or '3D'\n",
    "ani.point_animator('./data/SG_data.csv', 'Z', '2D', box, tf) #Animate the seeds or centroids depending on choice of 'Z' or 'C' and '2D' or '3D'\n",
    "ani.point_animator('./data/SG_data.csv', 'Z', '3D', box, tf) #Animate the seeds or centroids depending on choice of 'Z' or 'C' and '2D' or '3D'"
   ]
  },
  {
   "cell_type": "markdown",
   "metadata": {},
   "source": [
    "Next load in the data to animate the cells"
   ]
  },
  {
   "cell_type": "code",
   "execution_count": null,
   "metadata": {},
   "outputs": [],
   "source": [
    "import auxfunctions as aux\n",
    "\n",
    "# Load the data from the CSV file\n",
    "Z, C, W, _ = aux.load_data('./data/SG_data.csv')\n",
    "\n",
    "# Compute the Velocities and Temperature\n",
    "MVel = aux.MerVel(Z, C, W)\n",
    "ZVel = aux.ZonVel(Z, C, W)\n",
    "th0 = 303.15\n",
    "T = [[0] * len(W[0]) for _ in range(len(W))]\n",
    "for i in range(len(W)):\n",
    "    for j in range(len(W[0])):\n",
    "        T[i][j] = 14 * Z[i][j][2] + th0"
   ]
  },
  {
   "cell_type": "markdown",
   "metadata": {},
   "source": [
    "Next animate the cells"
   ]
  },
  {
   "cell_type": "code",
   "execution_count": 4,
   "metadata": {},
   "outputs": [],
   "source": [
    "from pysdot.domain_types import ConvexPolyhedraAssembly\n",
    "from pysdot import PowerDiagram\n",
    "import pyvista as pv\n",
    "import imageio.v2 as iio\n",
    "\n",
    "#Animate the cells\n",
    "\n",
    "coloring = 'ZVel' # Chose how to colour the cells can be temperature ('Temp'), meridonal velocity ('Vel'), \n",
    "\n",
    "# Construct the domain\n",
    "domain = ConvexPolyhedraAssembly()\n",
    "domain.add_box([box[0], box[1], box[2]], [box[3], box[4], box[5]])\n",
    "\n",
    "# Set up the animation parameters\n",
    "n_frames = len(W)  # Number of frames\n",
    "\n",
    "# Create an empty list to store frames\n",
    "frames = []\n",
    "\n",
    "# Generate frames for the animation\n",
    "for i in range(n_frames):\n",
    "\n",
    "    #Draw the tessellation\n",
    "    pd = PowerDiagram(positions = Z[i] , weights = W[i] , domain = domain)\n",
    "\n",
    "    # Store the volumes in an array\n",
    "    if coloring == 'MVel':\n",
    "        vols = np.array(MVel[i])\n",
    "    elif coloring == 'ZVel':\n",
    "        vols = np.array(ZVel[i])\n",
    "    elif coloring == 'Temp':\n",
    "        vols = np.array(T[i])\n",
    "    else:\n",
    "        raise ValueError('Please specify how you want to colour the cells')\n",
    "\n",
    "    # Save the results in a .vtk file\n",
    "    filename = \"./data/results.vtk\"\n",
    "    pd.display_vtk(filename)\n",
    "\n",
    "    # Read the data\n",
    "    grid=pv.read(filename)\n",
    "\n",
    "    # create cell data that gives the cell volumes, this allows us to colour by cell volumes\n",
    "    cell_vols = vols[grid.cell_data['num'].astype(int)]\n",
    "    grid.cell_data['vols']=cell_vols\n",
    "\n",
    "    # plot the data with an automatically created plotter, for a static picture use backend='static'\n",
    "    plotter = pv.Plotter(window_size=[800,800], notebook = False, off_screen=True)\n",
    "    plotter.add_mesh(grid)\n",
    "\n",
    "    # Render the frame\n",
    "    plotter.show()\n",
    "\n",
    "    # Add a headlight\n",
    "    light=pv.Light(light_type='headlight')\n",
    "    plotter.add_light(light)\n",
    "\n",
    "    # Get the frame as an image array\n",
    "    frame = plotter.screenshot(transparent_background=True)\n",
    "\n",
    "    # Add the frame to the list of frames\n",
    "    frames.append(frame)\n",
    "\n",
    "# Save the frames as an animation file\n",
    "output_file = './animations/SG_Cells.gif'\n",
    "iio.mimwrite(output_file, frames, format='gif', duration = 1000 / 40)"
   ]
  }
 ],
 "metadata": {
  "kernelspec": {
   "display_name": "Python 3.10.6 64-bit",
   "language": "python",
   "name": "python3"
  },
  "language_info": {
   "codemirror_mode": {
    "name": "ipython",
    "version": 3
   },
   "file_extension": ".py",
   "mimetype": "text/x-python",
   "name": "python",
   "nbconvert_exporter": "python",
   "pygments_lexer": "ipython3",
   "version": "3.10.12"
  },
  "orig_nbformat": 4,
  "vscode": {
   "interpreter": {
    "hash": "916dbcbb3f70747c44a77c7bcd40155683ae19c65e1c03b4aa3499c5328201f1"
   }
  }
 },
 "nbformat": 4,
 "nbformat_minor": 2
}
