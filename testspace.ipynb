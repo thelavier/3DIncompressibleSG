{
 "cells": [
  {
   "cell_type": "code",
   "execution_count": null,
   "metadata": {},
   "outputs": [],
   "source": [
    "import matplotlib.pyplot as plt\n",
    "\n",
    "import initialconditions as ic\n",
    "\n",
    "import main as main\n",
    "import sys\n",
    "sys.path.append(\"/home/s2250115/petsc/arch-linux-c-debug/lib\")\n",
    "\n",
    "import animators as ani"
   ]
  },
  {
   "cell_type": "code",
   "execution_count": null,
   "metadata": {},
   "outputs": [],
   "source": [
    "# Define the parameters of the system\n",
    "\n",
    "N = 2197 # Number of seeds\n",
    "box = [-4, -4, 0, 4, 4, 1] # List or tuple defining domain [xmin, ymin, zmin, xmax, ymax, zmax]\n",
    "per_tol = 1e-3 # Percent tolerance\n",
    "per_x = True # Set the periodicity of X\n",
    "per_y = True # Set the periodicity of Y\n",
    "per_z = False # Set the periodicity of Z\n",
    "a = 8 # Set replication parameter\n",
    "tf = 0.1 # Final time\n",
    "Ndt = 10 # Number of timesteps\n",
    "\n",
    "#Initialize initial condition\n",
    "Z = ic.create_initial(N, -4, -4, 0, 4, 4, 1, 'lattice') #Initial seed positions\n",
    "\n",
    "# Plot the initial condition\n",
    "\n",
    "fig = plt.figure()\n",
    "fig.set_size_inches(10, 10, True)\n",
    "ax = fig.add_subplot(projection='3d')\n",
    "ax.scatter(Z[:,0], Z[:,1], Z[:,2], c = Z[:,2], cmap = 'jet', edgecolor = 'none', s = 8)\n",
    "ax.set_xlim([-10, 10])\n",
    "ax.set_ylim([-10, 10])\n",
    "ax.set_zlim([-10, 10])\n",
    "ax.set_xlabel('X')\n",
    "ax.set_ylabel('Y')\n",
    "ax.set_zlabel('Z')\n",
    "ax.view_init(elev = 0, azim = 0)\n",
    "\n",
    "plt.show()"
   ]
  },
  {
   "cell_type": "code",
   "execution_count": null,
   "metadata": {},
   "outputs": [],
   "source": [
    "main.SG_solver(box, Z, N, per_tol, tf, Ndt, per_x, per_y, per_z, a) #Solve and save the solution"
   ]
  },
  {
   "cell_type": "code",
   "execution_count": null,
   "metadata": {},
   "outputs": [],
   "source": [
    "ani.point_animator('./SG_data.npz', 'C', '2D', tf) #Animate the seeds or centroids depending on choice of 'Z' or 'C' and '2D' or '3D'\n",
    "ani.point_animator('./SG_data.npz', 'C', '3D', tf) #Animate the seeds or centroids depending on choice of 'Z' or 'C' and '2D' or '3D'\n",
    "ani.point_animator('./SG_data.npz', 'Z', '2D', tf) #Animate the seeds or centroids depending on choice of 'Z' or 'C' and '2D' or '3D'\n",
    "ani.point_animator('./SG_data.npz', 'Z', '3D', tf) #Animate the seeds or centroids depending on choice of 'Z' or 'C' and '2D' or '3D'\n",
    "ani.cell_animator('./SG_data.npz', box) #Animate the cells"
   ]
  },
  {
   "cell_type": "code",
   "execution_count": null,
   "metadata": {},
   "outputs": [],
   "source": [
    "from pysdot import OptimalTransport\n",
    "import numpy as np\n",
    "import pyvista as pv\n",
    "import weightguess as wg\n",
    "import optimaltransportsolver as ots\n",
    "\n",
    "nb_diracs = 2197\n",
    "\n",
    "masses =  64 * np.ones( nb_diracs ) / nb_diracs\n",
    "\n",
    "domain = ots.make_domain(box, per_x, per_y, per_z, a)\n",
    "\n",
    "psi = np.zeros(shape = (nb_diracs,))\n",
    "\n",
    "# we have to specify that dirac masses because by default, sdot takes ones * measure( domain ) / nb_diracs\n",
    "# and that's not what we want in this case\n",
    "w0 = wg.rescale_weights(box, Z, psi, per_x, per_y, per_z)[0]\n",
    "ot = OptimalTransport( positions = Z, domain = domain, masses = masses, weights = w0 )\n",
    "\n",
    "# first arg of add_replication is a translation\n",
    "for x in [ -a, 0, a ]:\n",
    "    for y in [ -a, 0, a ]:\n",
    "        if x or y:\n",
    "            ot.pd.add_replication( [ x, y, 0 ] )\n",
    "\n",
    "ot.adjust_weights()\n",
    "\n",
    "filename = 'pb.vtk'\n",
    "ot.pd.display_vtk( 'pb.vtk' )\n",
    "\n",
    "# Mass of cells\n",
    "vols=ot.pd.integrals()\n",
    "print(sum(vols))\n",
    "\n",
    "# Read the data\n",
    "grid=pv.read(filename)\n",
    "\n",
    "# create cell data that gives the cell volumes, this allows us to colour by cell volumes\n",
    "cell_vols = vols[grid.cell_data['num'].astype(int)]\n",
    "grid.cell_data['vols']=cell_vols\n",
    "\n",
    "# plot the data with an automatically created plotter, for a static picture use backend='static'\n",
    "plotter = pv.Plotter(window_size=[800,800], notebook = True, off_screen=False)\n",
    "plotter.add_mesh(grid)\n",
    "\n",
    "# Render the frame\n",
    "plotter.show()\n"
   ]
  }
 ],
 "metadata": {
  "kernelspec": {
   "display_name": "Python 3.10.6 64-bit",
   "language": "python",
   "name": "python3"
  },
  "language_info": {
   "codemirror_mode": {
    "name": "ipython",
    "version": 3
   },
   "file_extension": ".py",
   "mimetype": "text/x-python",
   "name": "python",
   "nbconvert_exporter": "python",
   "pygments_lexer": "ipython3",
   "version": "3.10.6"
  },
  "orig_nbformat": 4,
  "vscode": {
   "interpreter": {
    "hash": "916dbcbb3f70747c44a77c7bcd40155683ae19c65e1c03b4aa3499c5328201f1"
   }
  }
 },
 "nbformat": 4,
 "nbformat_minor": 2
}
