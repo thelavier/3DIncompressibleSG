{
 "cells": [
  {
   "cell_type": "code",
   "execution_count": null,
   "metadata": {},
   "outputs": [],
   "source": [
    "import numpy as np\n",
    "import AuxFunctions as aux\n",
    "import main as main\n",
    "import timeit\n",
    "import sys\n",
    "sys.path.append(\"/home/s2250115/petsc/arch-linux-c-debug/lib\")"
   ]
  },
  {
   "cell_type": "code",
   "execution_count": null,
   "metadata": {},
   "outputs": [],
   "source": [
    "# Define the parameters of the system\n",
    "N = 1000 #Number of seeds\n",
    "box = [-3, -3, 0, 3, 3, 1] #list or tuple defining domain [xmin, ymin, zmin, xmax, ymax, zmax]\n",
    "per_tol = 1e-3 #Percent tolerance\n",
    "tf = 1 #Final time\n",
    "Ndt = 100 #Number of timesteps\n",
    "\n",
    "#Initialize initial condition\n",
    "Z = aux.create_initial(N, 4, 4, 4, -4, -4, 0, 'lattice wsp') #Initial guess that is uniform in x any y and sin(uniform) in z"
   ]
  },
  {
   "cell_type": "code",
   "execution_count": null,
   "metadata": {},
   "outputs": [],
   "source": [
    "#start = timeit.default_timer()\n",
    "main.SGSolver(box, Z, N, per_tol, tf, Ndt) #Solve and save the solution\n",
    "#end = timeit.default_timer()\n",
    "#print(abs(end - start))"
   ]
  },
  {
   "cell_type": "code",
   "execution_count": null,
   "metadata": {},
   "outputs": [],
   "source": [
    "aux.animator('./SG_data.npz', 'C', '2D', tf) #Animate the seeds or centroids depending on choice of 'Z' or 'C' and '2D' or '3D'\n",
    "aux.animator('./SG_data.npz', 'C', '3D', tf) #Animate the seeds or centroids depending on choice of 'Z' or 'C' and '2D' or '3D'\n",
    "aux.animator('./SG_data.npz', 'Z', '2D', tf) #Animate the seeds or centroids depending on choice of 'Z' or 'C' and '2D' or '3D'\n",
    "aux.animator('./SG_data.npz', 'Z', '3D', tf) #Animate the seeds or centroids depending on choice of 'Z' or 'C' and '2D' or '3D'"
   ]
  },
  {
   "cell_type": "code",
   "execution_count": null,
   "metadata": {},
   "outputs": [],
   "source": [
    "import matplotlib.pyplot as plt\n",
    "\n",
    "fig = plt.figure()\n",
    "fig.set_size_inches(10, 10, True)\n",
    "#ax = fig.add_subplot()\n",
    "ax = fig.add_subplot(projection='3d')\n",
    "ax.scatter(Z[:,0], Z[:,1], Z[:,2], c = Z[:,2], cmap = 'jet', edgecolor = 'none', s = 8)\n",
    "ax.set_xlim([-10, 10])\n",
    "ax.set_ylim([-10, 10])\n",
    "ax.set_zlim([-10, 10])\n",
    "ax.set_xlabel('X')\n",
    "ax.set_ylabel('Y')\n",
    "ax.set_zlabel('Z')\n",
    "ax.view_init(elev=0, azim=0)\n",
    "\n",
    "plt.show()"
   ]
  },
  {
   "cell_type": "code",
   "execution_count": null,
   "metadata": {},
   "outputs": [],
   "source": [
    "from pysdot.domain_types import ConvexPolyhedraAssembly\n",
    "from pysdot import PowerDiagram\n",
    "import pyvista as pv\n",
    "import imageio.v2 as iio\n",
    "\n",
    "box = [-3, -3, 0, 3, 3, 1]\n",
    "domain = ConvexPolyhedraAssembly()\n",
    "domain.add_box([box[0], box[1], box[2]], [box[3], box[4], box[5]])\n",
    "\n",
    "# Load the data\n",
    "loaded_data = np.load('SG_data.npz')\n",
    "\n",
    "# Access the individual arrays\n",
    "Z = loaded_data['data1']\n",
    "C = loaded_data['data2']\n",
    "w = loaded_data['data3']\n",
    "\n",
    "#Compute Meridonal Velocities?\n",
    "f = 1e-4\n",
    "M = [[0] * len(w[0]) for _ in range(len(w))]\n",
    "for i in range(len(w)):\n",
    "    for j in range(len(w[0])):\n",
    "        M[i][j] = f * (Z[i][j][0] - C[i][j][0])\n",
    "\n",
    "# Set up the animation parameters\n",
    "n_frames = len(w)  # Number of frames\n",
    "\n",
    "# Create an empty list to store frames\n",
    "frames = []\n",
    "\n",
    "# Generate frames for the animation\n",
    "for i in range(n_frames):\n",
    "\n",
    "    #Draw the tessellation\n",
    "    pd = PowerDiagram(positions = Z[i] , weights = w[i] , domain = domain)\n",
    "\n",
    "    # Store the volumes in an array\n",
    "    vols = np.array(M[i])\n",
    "\n",
    "    # Save the results in a .vtk file\n",
    "    filename = \"results.vtk\"\n",
    "    pd.display_vtk(filename)\n",
    "\n",
    "    # Read the data\n",
    "    grid=pv.read(filename)\n",
    "\n",
    "    # create cell data that gives the cell volumes, this allows us to colour by cell volumes\n",
    "    cell_vols = vols[grid.cell_data['num'].astype(int)]\n",
    "    grid.cell_data['vols']=cell_vols\n",
    "\n",
    "    # plot the data with an automatically created plotter, for a static picture use backend='static'\n",
    "    plotter = pv.Plotter(window_size=[800,800], notebook = False, off_screen=True)\n",
    "    plotter.add_mesh(grid)\n",
    "\n",
    "    # Render the frame\n",
    "    plotter.show()\n",
    "\n",
    "    # Add a headlight\n",
    "    light=pv.Light(light_type='headlight')\n",
    "    plotter.add_light(light)\n",
    "\n",
    "    # Get the frame as an image array\n",
    "    frame = plotter.screenshot(transparent_background=True)\n",
    "\n",
    "    # Add the frame to the list of frames\n",
    "    frames.append(frame)\n",
    "\n",
    "# Save the frames as an animation file\n",
    "output_file = 'animation.gif'\n",
    "iio.mimwrite(output_file, frames, format='gif', duration = 40)"
   ]
  },
  {
   "cell_type": "code",
   "execution_count": null,
   "metadata": {},
   "outputs": [],
   "source": [
    "from pysdot import OptimalTransport\n",
    "from pysdot import PowerDiagram\n",
    "\n",
    "Num = [8, 27, 64, 125, 216, 343, 512, 729, 1000, 1331, 1728, 2197, 2744, 3375]\n",
    "box = [-3, -3, -3, 3, 3, 3]\n",
    "D = aux.make_domain(box)\n",
    "\n",
    "for i in Num:\n",
    "    Z = aux.create_initial(i, 1, 1, 1, 0, 0, 0, 'lattice') #Initial guess that is uniform in x any y and sin(uniform) in z\n",
    "    w0 = aux.Rescale_weights(box, Z)[0]\n",
    "    ot = OptimalTransport(positions = Z, weights = w0, masses = D.measure() / i * np.ones(i), domain = D, linear_solver= 'Scipy')\n",
    "    start = timeit.default_timer()\n",
    "    #pd = PowerDiagram(positions=Z,weights=w0,domain=D)\n",
    "    ot.adjust_weights()\n",
    "    end = timeit.default_timer()\n",
    "    print(i, abs(end - start))\n"
   ]
  }
 ],
 "metadata": {
  "kernelspec": {
   "display_name": "Python 3.10.6 64-bit",
   "language": "python",
   "name": "python3"
  },
  "language_info": {
   "codemirror_mode": {
    "name": "ipython",
    "version": 3
   },
   "file_extension": ".py",
   "mimetype": "text/x-python",
   "name": "python",
   "nbconvert_exporter": "python",
   "pygments_lexer": "ipython3",
   "version": "3.10.6"
  },
  "orig_nbformat": 4,
  "vscode": {
   "interpreter": {
    "hash": "916dbcbb3f70747c44a77c7bcd40155683ae19c65e1c03b4aa3499c5328201f1"
   }
  }
 },
 "nbformat": 4,
 "nbformat_minor": 2
}
