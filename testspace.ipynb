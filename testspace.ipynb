{
 "cells": [
  {
   "cell_type": "markdown",
   "metadata": {},
   "source": [
    "Periodicity and weight guess experiments."
   ]
  },
  {
   "cell_type": "code",
   "execution_count": null,
   "metadata": {},
   "outputs": [],
   "source": [
    "from pysdot import OptimalTransport\n",
    "import numpy as np\n",
    "import pyvista as pv\n",
    "import weightguess as wg\n",
    "import optimaltransportsolver as ots\n",
    "\n",
    "nb_diracs = 2197\n",
    "\n",
    "masses =  64 * np.ones( nb_diracs ) / nb_diracs\n",
    "\n",
    "domain = ots.make_domain(box, per_x, per_y, per_z, a)\n",
    "\n",
    "psi = np.zeros(shape = (nb_diracs,))\n",
    "\n",
    "# we have to specify that dirac masses because by default, sdot takes ones * measure( domain ) / nb_diracs\n",
    "# and that's not what we want in this case\n",
    "w0 = wg.rescale_weights(box, Z, psi, per_x, per_y, per_z)[0]\n",
    "ot = OptimalTransport( positions = Z, domain = domain, masses = masses, weights = w0 )\n",
    "\n",
    "# first arg of add_replication is a translation\n",
    "for x in [ -a, 0, a ]:\n",
    "    for y in [ -a, 0, a ]:\n",
    "        if x or y:\n",
    "            ot.pd.add_replication( [ x, y, 0 ] )\n",
    "\n",
    "ot.adjust_weights()\n",
    "\n",
    "filename = 'pb.vtk'\n",
    "ot.pd.display_vtk( 'pb.vtk' )\n",
    "\n",
    "# Mass of cells\n",
    "vols=ot.pd.integrals()\n",
    "print(sum(vols))\n",
    "\n",
    "# Read the data\n",
    "grid=pv.read(filename)\n",
    "\n",
    "# create cell data that gives the cell volumes, this allows us to colour by cell volumes\n",
    "cell_vols = vols[grid.cell_data['num'].astype(int)]\n",
    "grid.cell_data['vols']=cell_vols\n",
    "\n",
    "# plot the data with an automatically created plotter, for a static picture use backend='static'\n",
    "plotter = pv.Plotter(window_size=[800,800], notebook = True, off_screen=False)\n",
    "plotter.add_mesh(grid)\n",
    "\n",
    "# Render the frame\n",
    "plotter.show()\n"
   ]
  },
  {
   "cell_type": "code",
   "execution_count": null,
   "metadata": {},
   "outputs": [],
   "source": [
    "# Define the parameters of the system\n",
    "\n",
    "N = 15625 # Number of seeds\n",
    "f = 1\n",
    "g = 1\n",
    "Y = [1, 1, 1]\n",
    "\n",
    "#Initialize initial condition\n",
    "Xinit = ic.create_artificial_initial(N, -1, -1, 0, 1, 1, 1, 'lattice') #Initial seed positions\n",
    "\n",
    "X0 = np.array([vector.tolist() for vector in Xinit if vector[2] <= -0.5 * (vector[0]**2 + vector[1]**2) + 0.5])\n",
    "#X1 = np.array([vector.tolist() for vector in X0 if vector[2] >= -0.5 * ((vector[0] - 0.8)**2 + (vector[1] - 0.8)**2) + 0.5])\n",
    "#X = np.array([vector.tolist() for vector in X1 if vector[2] >= -0.5 * ((vector[0] + 0.8)**2 + (vector[1] + 0.8)**2) + 0.5])\n",
    "#Xinit[:, 2] = -0.5 * ((Xinit[:, 0] - Y[0]) ** 2 + (Xinit[:, 1] - Y[1]) ** 2)\n",
    "X = X0\n",
    "\n",
    "# Extract the components of the original vectors\n",
    "x1 = X[:, 0]\n",
    "x2 = X[:, 1]\n",
    "x3 = X[:, 2]\n",
    "\n",
    "# Apply the transformation to each component\n",
    "transformed_x1 = f**2 * ((x1 - Y[0]) / Y[2])\n",
    "transformed_x2 = f**2 * ((x2 - Y[1]) / Y[2])\n",
    "transformed_x3 = (g * x3) / Y[2]**2 + (f**2 / 2) * (((x1 - Y[0]) / Y[2])**2 + ((x2 - Y[1]) / Y[2])**2)\n",
    "\n",
    "# Create a new matrix with the transformed vectors\n",
    "Z = np.column_stack((transformed_x1, transformed_x2, transformed_x3))\n",
    "\n",
    "# Plot the initial condition\n",
    "\n",
    "fig = plt.figure()\n",
    "fig.set_size_inches(10, 10, True)\n",
    "ax = fig.add_subplot(projection='3d')\n",
    "#ax.scatter(X[:,0], X[:,1], X[:,2], c = X[:,2], cmap = 'jet', edgecolor = 'none', s = 8)\n",
    "ax.scatter(Z[:,0], Z[:,1], Z[:,2], edgecolor = 'none', s = 8)\n",
    "ax.set_xlim([-3, 3])\n",
    "ax.set_ylim([-3, 3])\n",
    "ax.set_zlim([-3, 3])\n",
    "ax.set_xlabel('X')\n",
    "ax.set_ylabel('Y')\n",
    "ax.set_zlabel('Z')\n",
    "ax.view_init(elev = 0, azim = 0)\n",
    "\n",
    "plt.show()"
   ]
  }
 ],
 "metadata": {
  "kernelspec": {
   "display_name": "Python 3.10.12 64-bit",
   "language": "python",
   "name": "python3"
  },
  "language_info": {
   "codemirror_mode": {
    "name": "ipython",
    "version": 3
   },
   "file_extension": ".py",
   "mimetype": "text/x-python",
   "name": "python",
   "nbconvert_exporter": "python",
   "pygments_lexer": "ipython3",
   "version": "3.10.12"
  },
  "orig_nbformat": 4,
  "vscode": {
   "interpreter": {
    "hash": "916dbcbb3f70747c44a77c7bcd40155683ae19c65e1c03b4aa3499c5328201f1"
   }
  }
 },
 "nbformat": 4,
 "nbformat_minor": 2
}
