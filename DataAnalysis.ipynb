{
 "cells": [
  {
   "cell_type": "markdown",
   "metadata": {},
   "source": [
    "# Import the needed packages "
   ]
  },
  {
   "cell_type": "code",
   "execution_count": null,
   "metadata": {},
   "outputs": [],
   "source": [
    "import erroranalysis as err\n",
    "import auxfunctions as aux\n",
    "import matplotlib.pyplot as plt"
   ]
  },
  {
   "cell_type": "code",
   "execution_count": null,
   "metadata": {},
   "outputs": [],
   "source": [
    "Z, C, W, M = aux.load_data('./data/SG_data.csv')\n",
    "ZRef, CRef, WRef, MRef = aux.load_data('./data/SG_data_ref.csv')\n",
    "box = [-3.66, -1.75, 0, 3.66, 1.75, 0.45]"
   ]
  },
  {
   "cell_type": "code",
   "execution_count": null,
   "metadata": {},
   "outputs": [],
   "source": [
    "RMSv = err.Root_Mean_Squared_Velocity(ZRef, CRef, WRef, 'Zonal')\n",
    "\n",
    "# Create a line plot\n",
    "plt.plot(RMSv)\n",
    "\n",
    "# Add labels and title (optional)\n",
    "plt.xlabel('Time Step')\n",
    "plt.ylabel('RMSv')\n",
    "plt.title('RMSv')\n",
    "\n",
    "# Display the plot (if running in a Jupyter Notebook, this step might not be necessary)\n",
    "plt.show()"
   ]
  },
  {
   "cell_type": "code",
   "execution_count": null,
   "metadata": {},
   "outputs": [],
   "source": [
    "euclid_error = err.Weighted_Euclidian_Error(Z, ZRef, MRef, 5, 3, box)\n",
    "\n",
    "print(euclid_error)"
   ]
  },
  {
   "cell_type": "code",
   "execution_count": null,
   "metadata": {},
   "outputs": [],
   "source": [
    "sinkhorn_loss = err.Sqrt_Sinkhorn_Loss(Z, M, ZRef, MRef, 0.001, 5, 2.5, box)\n",
    "\n",
    "print(sinkhorn_loss)"
   ]
  }
 ],
 "metadata": {
  "kernelspec": {
   "display_name": "Python 3",
   "language": "python",
   "name": "python3"
  },
  "language_info": {
   "codemirror_mode": {
    "name": "ipython",
    "version": 3
   },
   "file_extension": ".py",
   "mimetype": "text/x-python",
   "name": "python",
   "nbconvert_exporter": "python",
   "pygments_lexer": "ipython3",
   "version": "3.10.12"
  }
 },
 "nbformat": 4,
 "nbformat_minor": 2
}
