{
 "cells": [
  {
   "cell_type": "markdown",
   "metadata": {},
   "source": [
    "# Data Analysis\n",
    "\n",
    "In this notebook we study the error in our numerical method as well as preform various sanity checks on the results. These are:\n",
    "1. Ploting the RMSv\n",
    "2. Ploting the Error in Energy Conservation as a function of timestep size\n",
    "3. Generating contour plots at various timesteps to compare with the results of Schaer and Wernli's paper for the initial condition of an isolated Semi-Geostrophic Cyclone. "
   ]
  },
  {
   "cell_type": "markdown",
   "metadata": {},
   "source": [
    "### Import the needed packages "
   ]
  },
  {
   "cell_type": "code",
   "execution_count": 1,
   "metadata": {
    "metadata": {}
   },
   "outputs": [
    {
     "name": "stdout",
     "output_type": "stream",
     "text": [
      "[KeOps] Warning : Cuda libraries were not detected on the system or could not be loaded ; using cpu only mode\n"
     ]
    }
   ],
   "source": [
    "import numpy as np\n",
    "import time\n",
    "from solvers import mainHeun as Heun\n",
    "from solvers import mainRK4 as RK4\n",
    "from solvers import mainAB2 as AB2\n",
    "from solvers import mainCN as CN\n",
    "import erroranalysis as err\n",
    "import auxfunctions as aux\n",
    "import matplotlib.pyplot as plt\n",
    "import random"
   ]
  },
  {
   "cell_type": "markdown",
   "metadata": {},
   "source": [
    "### Load in the Data"
   ]
  },
  {
   "cell_type": "code",
   "execution_count": 2,
   "metadata": {},
   "outputs": [],
   "source": [
    "ZRef, CRef, WRef, MRef, TCRef = aux.load_data('./PaperData/RK4_SG_data_10-3_32_1hr.msgpack')\n",
    "box = [-3.66, -1.75, 0, 3.66, 1.75, 0.45]"
   ]
  },
  {
   "cell_type": "code",
   "execution_count": 3,
   "metadata": {
    "metadata": {}
   },
   "outputs": [],
   "source": [
    "Z, C, W, M, TC = aux.load_data('./PaperData/RK4_SG_data_10-3_28_1hr.msgpack')"
   ]
  },
  {
   "cell_type": "markdown",
   "metadata": {},
   "source": [
    "## Error Analysis\n",
    "\n",
    "Here we investigate the Weighted Euclidian Error and the Sinkhorn loss. These are done by comparison to a \"high-resolution\" simulation. "
   ]
  },
  {
   "cell_type": "markdown",
   "metadata": {},
   "source": [
    "### Check the Weighted Euclidian Error"
   ]
  },
  {
   "cell_type": "code",
   "execution_count": null,
   "metadata": {},
   "outputs": [],
   "source": [
    "for comptime in [12.3974, 24.7947, 37.2351, 52]:    \n",
    "    euclid_error = err.Weighted_Euclidian_Error(Z, ZRef, MRef, 52, comptime, box)\n",
    "    print(comptime, euclid_error)"
   ]
  },
  {
   "cell_type": "markdown",
   "metadata": {},
   "source": [
    "### Check the Wasserstein Distance"
   ]
  },
  {
   "cell_type": "code",
   "execution_count": 10,
   "metadata": {},
   "outputs": [
    {
     "name": "stdout",
     "output_type": "stream",
     "text": [
      "0.004508895827354824\n",
      "0.004509112296849696\n",
      "0.004508763141703745\n",
      "0.004508762114566284\n"
     ]
    }
   ],
   "source": [
    "for comptime in [12.3974, 24.7947, 37.2351, 52]:\n",
    "    WD = err.Wasserstein_Distance(Z, M, ZRef, MRef, 52, comptime, box)\n",
    "    print(WD)"
   ]
  },
  {
   "cell_type": "markdown",
   "metadata": {},
   "source": [
    "## Next we have our coding sanity checks"
   ]
  },
  {
   "cell_type": "markdown",
   "metadata": {},
   "source": [
    "### Check the RMSv"
   ]
  },
  {
   "cell_type": "code",
   "execution_count": 6,
   "metadata": {
    "metadata": {}
   },
   "outputs": [
    {
     "data": {
      "image/png": "[encoded data removed]",
      "text/plain": [
       "<Figure size 640x480 with 1 Axes>"
      ]
     },
     "metadata": {},
     "output_type": "display_data"
    }
   ],
   "source": [
    "RMSv = err.Root_Mean_Squared_Velocity(ZRef, CRef, 'Zonal')\n",
    "\n",
    "# Create a line plot\n",
    "plt.plot(RMSv)\n",
    "\n",
    "# Add labels and title\n",
    "plt.xlabel('Time Step')\n",
    "plt.ylabel('RMSv')\n",
    "plt.title('RMSv')\n",
    "\n",
    "plt.show()"
   ]
  },
  {
   "cell_type": "markdown",
   "metadata": {},
   "source": [
    "### Checking that the Transport Cost is Conserved"
   ]
  },
  {
   "cell_type": "code",
   "execution_count": null,
   "metadata": {},
   "outputs": [],
   "source": [
    "# Define dictionary for maping files\n",
    "solver_name_map = {\n",
    "    AB2: 'AB2',\n",
    "    Heun: 'Heun',\n",
    "    RK4: 'RK4',\n",
    "    CN: 'CN'\n",
    "}\n",
    "\n",
    "# Define the parameters of the system\n",
    "box = [-2, -1, 0, 2, 1, 0.5] # List or tuple defining domain [xmin, ymin, zmin, xmax, ymax, zmax]\n",
    "per_tol = 1e-3 # Percent tolerance\n",
    "per_x = True # Set the periodicity of X\n",
    "per_y = False # Set the periodicity of Y\n",
    "per_z = False # Set the periodicity of Z\n",
    "tf = 26 # Final time\n",
    "Ndt = np.linspace(20, 2000, 20, endpoint=True) # Number of timesteps\n",
    "N = 10 # Number of seeds\n",
    "Z = np.array([(random.uniform(box[0], box[3]),\n",
    "               random.uniform(box[1], box[4]),\n",
    "               random.uniform(box[2], box[5])) for _ in range(N)]) # Place the seeds randomly\n",
    "\n",
    "# Function to run a solver test and compute metrics\n",
    "def run_test(solver, box, Z, per_tol, tf, Ndt, per_x, per_y, per_z, debug=False):\n",
    "    \"\"\"\n",
    "    Runs a specific solver and returns conservation error and runtime.\n",
    "\n",
    "    Parameters:\n",
    "    - solver: The solver function to run.\n",
    "    - box, Z, per_tol, tf, Ndt, per_x, per_y, per_z: Parameters for the solver.\n",
    "    - debug: Whether to run the solver in debug mode.\n",
    "\n",
    "    Returns:\n",
    "    - Maximum conservation error and runtime for the solver.\n",
    "    \"\"\"\n",
    "    start_time = time.time()\n",
    "    solver.SG_solver(box, Z, per_tol, tf, int(Ndt), per_x, per_y, per_z, debug=debug)\n",
    "    runtime = time.time() - start_time\n",
    "    \n",
    "    solver_name = solver_name_map[solver]\n",
    "    seeds, C, _, _, TC = aux.load_data(f'./data/{solver_name}_SG_data.msgpack')\n",
    "    _, _, _, _, E, _ = aux.get_properties(seeds, C, TC)\n",
    "    meanEnergy = np.mean(E)\n",
    "    ConservationError = np.abs((E - meanEnergy) / meanEnergy)\n",
    "\n",
    "    return max(ConservationError), runtime\n",
    "\n",
    "# Main loop\n",
    "solvers = [AB2, Heun, RK4, CN] # Assuming AB2, Heun, RK4, DOPRI are defined elsewhere\n",
    "data = {solver.__name__: [] for solver in solvers}\n",
    "\n",
    "for i in Ndt:\n",
    "    for solver in solvers:\n",
    "        error, runtime = run_test(solver, box, Z, per_tol, tf, i, per_x, per_y, per_z)\n",
    "        data[solver.__name__].append((error, runtime))\n",
    "    print(f\"Completed iteration with Ndt={i}\")"
   ]
  },
  {
   "cell_type": "code",
   "execution_count": null,
   "metadata": {},
   "outputs": [],
   "source": [
    "# Calculate initial time step sizes for the x-axis\n",
    "initial_time_steps = tf / Ndt\n",
    "\n",
    "# Function to plot data for a specific solver\n",
    "def plot_solver_data(ax1, ax2, data, initial_time_steps, label, color):\n",
    "    max_errors = [d[0] for d in data]  # Extract max conservation errors\n",
    "    runtimes = [d[1] for d in data]  # Extract runtimes\n",
    "\n",
    "    ax1.plot(initial_time_steps, max_errors, label=f\"{label} Max Error\", color=color)\n",
    "    ax2.plot(initial_time_steps, runtimes, label=f\"{label} Runtime\", color=color, linestyle=\"--\")\n",
    "\n",
    "fig, ax1 = plt.subplots()\n",
    "ax2 = ax1.twinx()  # Instantiate a second axes that shares the same x-axis\n",
    "\n",
    "colors = ['blue', 'red', 'green', 'black']\n",
    "labels = ['mainAB2', 'mainHeun', 'mainRK4', 'mainCN']\n",
    "\n",
    "# Iterate through each solver and plot\n",
    "for solver, color in zip(labels, colors):\n",
    "    plot_solver_data(ax1, ax2, data[solver], initial_time_steps, solver, color)\n",
    "\n",
    "# Labeling the axes\n",
    "ax1.set_xlabel('Initial Time Step')\n",
    "ax1.set_ylabel('Max Conservation Error', color='tab:blue')\n",
    "ax2.set_ylabel('Runtime (sec)', color='tab:red')\n",
    "\n",
    "# Adding legends\n",
    "ax1.legend(loc='upper left')\n",
    "ax2.legend(loc='upper right')\n",
    "\n",
    "# Display the plot\n",
    "plt.title('Comparison of ODE Solvers: Conservation Error and Runtime')\n",
    "plt.show()"
   ]
  },
  {
   "cell_type": "markdown",
   "metadata": {},
   "source": [
    "### Contour plots of the temperature"
   ]
  },
  {
   "cell_type": "code",
   "execution_count": null,
   "metadata": {},
   "outputs": [],
   "source": [
    "# Load in a package to preform a nearest neighbour search\n",
    "from scipy.spatial import cKDTree\n",
    "\n",
    "# Select the timestep you want to plot (e.g., 0 for the first timestep)\n",
    "a, b, c = 3.66, 1.75, 0.45 # Pull in the dimensions of the fundamental domain\n",
    "selected_timestep = 1114  # Adjust this as needed\n",
    "fixed_z = c # Set whether we are ploting the temperature on the surface or on the lid\n",
    "\n",
    "# First we compute the temperature and zip it to the corresponding centroid\n",
    "_, _, _, T, _, _ = aux.Properties(Z, C, TC)\n",
    "T_selected = T[selected_timestep, :, np.newaxis]  # T for selected timestep\n",
    "C_selected = C[selected_timestep]  # Positions for selected timestep\n",
    "CT_selected = np.concatenate((C_selected, T_selected), axis=1)  # Combine selected positions and temperatures\n",
    "\n",
    "# Set the shift value to ensure that the copies lie in [-2a,-a] and [a,2a]\n",
    "x_shift = 1.5 * a \n",
    "C_rs_selected = CT_selected.copy()\n",
    "C_ls_selected = CT_selected.copy()\n",
    "C_rs_selected[:, 0] += x_shift\n",
    "C_ls_selected[:, 0] -= x_shift\n",
    "\n",
    "# Combine the original and the two shifted centroid positions\n",
    "combined_positions = np.vstack((CT_selected, C_rs_selected, C_ls_selected))\n",
    "\n",
    "# Next we generate a grid containing all of the points on the surface or the lid for our contour plot. \n",
    "\n",
    "# Grid dimensions in x and y directions\n",
    "num_points_x = 1000  # Number of points in x\n",
    "num_points_y = 500   # Number of points in y\n",
    "\n",
    "# Generate grid points for x and y\n",
    "x = np.linspace(-a, a, num_points_x)\n",
    "y = np.linspace(-b, b, num_points_y)\n",
    "\n",
    "# Create meshgrid for x and y\n",
    "x_grid, y_grid = np.meshgrid(x, y)\n",
    "\n",
    "# Flatten the x and y grid arrays\n",
    "x_flat = x_grid.flatten()\n",
    "y_flat = y_grid.flatten()\n",
    "\n",
    "# Set the z coordinate\n",
    "z_flat = np.full_like(x_flat, fixed_z)  # Create an array filled with the fixed z value\n",
    "\n",
    "# Combine x, y, and z into a Mx3 matrix\n",
    "sample_points = np.vstack((x_flat, y_flat, z_flat)).T\n",
    "\n",
    "# Nearest neighbor search for the selected timestep\n",
    "tree = cKDTree(combined_positions[:, :3])  # Use positions only\n",
    "distances, indices = tree.query(sample_points, k=1)\n",
    "nearest_temperatures = combined_positions[indices, 3]\n",
    "\n",
    "# Prepare sample points with temperature for plotting\n",
    "sample_points_with_temp = np.hstack((sample_points, nearest_temperatures[:, np.newaxis]))\n",
    "xy_temp = sample_points_with_temp[:, [0, 1, 3]]\n",
    "\n",
    "# Reshaping and plotting as before\n",
    "temperatures_grid = xy_temp[:, 2].reshape((num_points_y, num_points_x))\n",
    "x_unique = np.unique(xy_temp[:, 0])\n",
    "y_unique = np.unique(xy_temp[:, 1])\n",
    "\n",
    "plt.figure(figsize=(8, 6))\n",
    "cp = plt.contourf(x_unique, y_unique, temperatures_grid, cmap='coolwarm', levels=20)\n",
    "plt.colorbar(cp)\n",
    "plt.title(f'Temperature Contour Plot at Timestep {selected_timestep}')\n",
    "plt.xlabel('x')\n",
    "plt.ylabel('y')\n",
    "plt.show()"
   ]
  }
 ],
 "metadata": {
  "kernelspec": {
   "display_name": "Python 3",
   "language": "python",
   "name": "python3"
  },
  "language_info": {
   "codemirror_mode": {
    "name": "ipython",
    "version": 3
   },
   "file_extension": ".py",
   "mimetype": "text/x-python",
   "name": "python",
   "nbconvert_exporter": "python",
   "pygments_lexer": "ipython3",
   "version": "3.10.12"
  }
 },
 "nbformat": 4,
 "nbformat_minor": 2
}
