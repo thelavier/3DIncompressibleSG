{
 "cells": [
  {
   "cell_type": "markdown",
   "metadata": {},
   "source": [
    "# Import the needed packages "
   ]
  },
  {
   "cell_type": "code",
   "execution_count": 1,
   "metadata": {},
   "outputs": [
    {
     "name": "stderr",
     "output_type": "stream",
     "text": [
      "WARNING:absl:No GPU/TPU found, falling back to CPU. (Set TF_CPP_MIN_LOG_LEVEL=0 and rerun for more info.)\n"
     ]
    },
    {
     "data": {
      "text/plain": [
       "2147483646"
      ]
     },
     "execution_count": 1,
     "metadata": {},
     "output_type": "execute_result"
    }
   ],
   "source": [
    "import erroranalysis as err\n",
    "import matplotlib.pyplot as plt\n",
    "import sys\n",
    "import csv\n",
    "csv.field_size_limit(min(sys.maxsize, 2147483646))"
   ]
  },
  {
   "cell_type": "code",
   "execution_count": 2,
   "metadata": {},
   "outputs": [],
   "source": [
    "Z, C, W, M = err.load_data('./data/SG_data.csv')\n",
    "ZRef, CRef, WRef, MRef = err.load_data('./data/SG_data_ref.csv')"
   ]
  },
  {
   "cell_type": "code",
   "execution_count": null,
   "metadata": {},
   "outputs": [],
   "source": [
    "RMSv = err.Root_Mean_Squared_Velocity(Z, C, W, 'Meridional')\n",
    "\n",
    "# Create a line plot\n",
    "plt.plot(RMSv)\n",
    "\n",
    "# Add labels and title (optional)\n",
    "plt.xlabel('Time Step')\n",
    "plt.ylabel('RMSv')\n",
    "plt.title('RMSv')\n",
    "\n",
    "# Display the plot (if running in a Jupyter Notebook, this step might not be necessary)\n",
    "plt.show()"
   ]
  },
  {
   "cell_type": "code",
   "execution_count": null,
   "metadata": {},
   "outputs": [],
   "source": [
    "euclid_error = err.Weighted_Euclidian_Error(Z, ZRef, MRef, 5, 3)\n",
    "\n",
    "print(euclid_error)"
   ]
  },
  {
   "cell_type": "code",
   "execution_count": 3,
   "metadata": {},
   "outputs": [
    {
     "name": "stdout",
     "output_type": "stream",
     "text": [
      "[-6.171028e-10 -6.171028e-10 -6.171028e-10 ... -6.394546e-10 -3.526076e-10\n",
      " -3.898587e-10] [-0.00543556 -0.00543556 -0.00543556 ... -0.00543556 -0.00543557\n",
      " -0.00543553]\n",
      "[ 1.4386729e-08 -4.8770994e-11 -4.8770994e-11 ... -9.3474568e-11\n",
      " -8.2298675e-11  1.7170201e-07] [-0.00543667 -0.00543559 -0.00543557 ... -0.00543556 -0.00543556\n",
      " -0.00544487]\n"
     ]
    }
   ],
   "source": [
    "sinkhorn_loss = err.Sqrt_Sinkhorn_Loss(Z, M, ZRef, MRef, 0.001, 5, 2.5)"
   ]
  },
  {
   "cell_type": "code",
   "execution_count": 4,
   "metadata": {},
   "outputs": [
    {
     "name": "stdout",
     "output_type": "stream",
     "text": [
      "0.33819934028100673\n"
     ]
    }
   ],
   "source": [
    "print(sinkhorn_loss)"
   ]
  }
 ],
 "metadata": {
  "kernelspec": {
   "display_name": "Python 3",
   "language": "python",
   "name": "python3"
  },
  "language_info": {
   "codemirror_mode": {
    "name": "ipython",
    "version": 3
   },
   "file_extension": ".py",
   "mimetype": "text/x-python",
   "name": "python",
   "nbconvert_exporter": "python",
   "pygments_lexer": "ipython3",
   "version": "3.10.12"
  }
 },
 "nbformat": 4,
 "nbformat_minor": 2
}
